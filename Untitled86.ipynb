{
  "cells": [
    {
      "cell_type": "markdown",
      "metadata": {
        "id": "view-in-github",
        "colab_type": "text"
      },
      "source": [
        "<a href=\"https://colab.research.google.com/github/skj092/GI-Tract-Image-Segmentation/blob/main/Untitled86.ipynb\" target=\"_parent\"><img src=\"https://colab.research.google.com/assets/colab-badge.svg\" alt=\"Open In Colab\"/></a>"
      ]
    },
    {
      "cell_type": "code",
      "source": [
        "# IMPORTANT: SOME KAGGLE DATA SOURCES ARE PRIVATE\n",
        "# RUN THIS CELL IN ORDER TO IMPORT YOUR KAGGLE DATA SOURCES.\n",
        "import kagglehub\n",
        "kagglehub.login()"
      ],
      "metadata": {
        "id": "R1S57YM6Nmt0"
      },
      "execution_count": null,
      "outputs": []
    },
    {
      "cell_type": "code",
      "source": [
        "import kagglehub\n",
        "uw_madison_gi_tract_image_segmentation_path = kagglehub.competition_download('uw-madison-gi-tract-image-segmentation')\n",
        "uw_madison_gi_tract_image_segmentation_path"
      ],
      "metadata": {
        "id": "6qGQBqw1Lp_s",
        "outputId": "84080da9-7cec-4c42-913b-cb6ee863e35d",
        "colab": {
          "base_uri": "https://localhost:8080/",
          "height": 87
        }
      },
      "execution_count": 13,
      "outputs": [
        {
          "output_type": "stream",
          "name": "stdout",
          "text": [
            "Downloading from https://www.kaggle.com/api/v1/competitions/data/download-all/uw-madison-gi-tract-image-segmentation...\n"
          ]
        },
        {
          "output_type": "stream",
          "name": "stderr",
          "text": [
            "100%|██████████| 2.30G/2.30G [00:23<00:00, 106MB/s]"
          ]
        },
        {
          "output_type": "stream",
          "name": "stdout",
          "text": [
            "Extracting files...\n"
          ]
        },
        {
          "output_type": "stream",
          "name": "stderr",
          "text": [
            "\n"
          ]
        },
        {
          "output_type": "execute_result",
          "data": {
            "text/plain": [
              "'/root/.cache/kagglehub/competitions/uw-madison-gi-tract-image-segmentation'"
            ],
            "application/vnd.google.colaboratory.intrinsic+json": {
              "type": "string"
            }
          },
          "metadata": {},
          "execution_count": 13
        }
      ]
    },
    {
      "cell_type": "code",
      "source": [
        "awsaf49_uwmgi_mask_dataset_path = kagglehub.dataset_download('awsaf49/uwmgi-mask-dataset')\n",
        "awsaf49_uwmgi_mask_dataset_path"
      ],
      "metadata": {
        "id": "okZlouvNMhQZ",
        "outputId": "bec67486-faac-4610-a3bc-a5b03a72eadc",
        "colab": {
          "base_uri": "https://localhost:8080/"
        }
      },
      "execution_count": null,
      "outputs": [
        {
          "output_type": "stream",
          "name": "stdout",
          "text": [
            "Downloading from https://www.kaggle.com/api/v1/datasets/download/awsaf49/uwmgi-mask-dataset?dataset_version_number=4...\n"
          ]
        },
        {
          "output_type": "stream",
          "name": "stderr",
          "text": [
            "100%|██████████| 77.3M/77.3M [00:00<00:00, 115MB/s]"
          ]
        },
        {
          "output_type": "stream",
          "name": "stdout",
          "text": [
            "Extracting files...\n"
          ]
        },
        {
          "output_type": "stream",
          "name": "stderr",
          "text": [
            "\n"
          ]
        }
      ]
    },
    {
      "cell_type": "code",
      "source": [
        "cd /content"
      ],
      "metadata": {
        "id": "i8CrtXlIOLkZ"
      },
      "execution_count": null,
      "outputs": []
    },
    {
      "cell_type": "code",
      "source": [
        "git"
      ],
      "metadata": {
        "id": "aufAouvpONsc"
      },
      "execution_count": null,
      "outputs": []
    },
    {
      "cell_type": "code",
      "source": [
        "from torch.utils.data import Dataset, DataLoader\n",
        "import numpy as np\n",
        "import cv2\n",
        "import albumentations as A\n",
        "import torch\n",
        "\n",
        "\n",
        "# dataset and dataloader\n",
        "class BuildDataset(Dataset):\n",
        "    def __init__(self, df, transforms=None):\n",
        "        self.df = df\n",
        "        self.image_paths = df['image_path'].tolist()\n",
        "        self.mask_paths = df['mask_path'].tolist()\n",
        "        self.transform = transforms\n",
        "\n",
        "    def __len__(self):\n",
        "        return len(self.df)\n",
        "\n",
        "    def __getitem__(self, idx):\n",
        "        img_path = self.image_paths[idx]\n",
        "        mask_path = self.mask_paths[idx]\n",
        "        img = cv2.imread(img_path)\n",
        "        img = img.astype('float32')\n",
        "        img = img/np.max(img)\n",
        "        mask = np.load(mask_path)\n",
        "        mask = mask.astype('float32')\n",
        "        mask = mask/255\n",
        "        if self.transform:\n",
        "            transformed = self.transform(image=img, mask=mask)\n",
        "            img = transformed['image']\n",
        "            mask = transformed['mask']\n",
        "        img = img.transpose(2, 0, 1)\n",
        "        mask = mask.transpose(2, 0, 1)\n",
        "        return torch.tensor(img), torch.tensor(mask)\n",
        "\n",
        "\n",
        "def prepare_loaders(df, fold, data_transforms, CFG, debug=False):\n",
        "    train_df = df.query(\"fold!=@fold\").reset_index(drop=True)\n",
        "    valid_df = df.query(\"fold==@fold\").reset_index(drop=True)\n",
        "    if debug:\n",
        "        train_df = train_df.query(\"empty==0\").head(32 * 3)\n",
        "        valid_df = valid_df.query(\"empty==0\").head(32 * 3)\n",
        "    train_dataset = BuildDataset(train_df, transforms=data_transforms['train'])\n",
        "    valid_dataset = BuildDataset(valid_df, transforms=data_transforms['valid'])\n",
        "\n",
        "    train_loader = DataLoader(train_dataset, batch_size=CFG.train_bs if not debug else 20,\n",
        "                              num_workers=4, shuffle=True, pin_memory=True, drop_last=False)\n",
        "    valid_loader = DataLoader(valid_dataset, batch_size=CFG.valid_bs if not debug else 20,\n",
        "                              num_workers=4, shuffle=False, pin_memory=True)\n",
        "\n",
        "    return train_loader, valid_loader\n",
        "\n"
      ],
      "metadata": {
        "id": "wrJhDX5wOYDi"
      },
      "execution_count": null,
      "outputs": []
    },
    {
      "cell_type": "code",
      "source": [
        "import torch\n",
        "import albumentations as A\n",
        "import cv2\n",
        "import numpy as np\n",
        "import random\n",
        "import os\n",
        "import matplotlib.pyplot as plt\n",
        "from matplotlib.patches import Rectangle\n",
        "\n",
        "class CFG:\n",
        "    img_size = [224, 224]\n",
        "    train_bs = 32\n",
        "    valid_bs = 32\n",
        "    lr = 1e-3\n",
        "    device = 'cuda' if torch.cuda.is_available() else 'cpu'\n",
        "    n_fold = 5\n",
        "    seed = 101\n",
        "    backbone = \"efficientnet-b1\"\n",
        "    n_class=3\n",
        "\n",
        "def set_seed(seed = 42):\n",
        "    '''Sets the seed of the entire notebook so results are the same every time we run.\n",
        "    This is for REPRODUCIBILITY.'''\n",
        "    np.random.seed(seed)\n",
        "    random.seed(seed)\n",
        "    torch.manual_seed(seed)\n",
        "    torch.cuda.manual_seed(seed)\n",
        "    # When running on the CuDNN backend, two further options must be set\n",
        "    torch.backends.cudnn.deterministic = True\n",
        "    torch.backends.cudnn.benchmark = False\n",
        "    # Set a fixed value for the hash seed\n",
        "    os.environ['PYTHONHASHSEED'] = str(seed)\n",
        "    print('> SEEDING DONE')\n",
        "\n",
        "\n",
        "\n",
        "def show_img(img, mask=None):\n",
        "    clahe = cv2.createCLAHE(clipLimit=2.0, tileGridSize=(8,8))\n",
        "#     img = clahe.apply(img)\n",
        "#     plt.figure(figsize=(10,10))\n",
        "    plt.imshow(img, cmap='bone')\n",
        "\n",
        "    if mask is not None:\n",
        "        # plt.imshow(np.ma.masked_where(mask!=1, mask), alpha=0.5, cmap='autumn')\n",
        "        plt.imshow(mask, alpha=0.5)\n",
        "        handles = [Rectangle((0,0),1,1, color=_c) for _c in [(0.667,0.0,0.0), (0.0,0.667,0.0), (0.0,0.0,0.667)]]\n",
        "        labels = [\"Large Bowel\", \"Small Bowel\", \"Stomach\"]\n",
        "        plt.legend(handles,labels)\n",
        "    plt.axis('off')\n",
        "\n",
        "data_transforms = {\n",
        "    \"train\": A.Compose([\n",
        "        A.Resize(*CFG.img_size, interpolation=cv2.INTER_NEAREST),\n",
        "#         A.HorizontalFlip(p=0.5),\n",
        "# #         A.VerticalFlip(p=0.5),\n",
        "#         A.ShiftScaleRotate(shift_limit=0.0625, scale_limit=0.05, rotate_limit=10, p=0.5),\n",
        "#         A.OneOf([\n",
        "#             A.GridDistortion(num_steps=5, distort_limit=0.05, p=1.0),\n",
        "# # #             A.OpticalDistortion(distort_limit=0.05, shift_limit=0.05, p=1.0),\n",
        "#             A.ElasticTransform(alpha=1, sigma=50, alpha_affine=50, p=1.0)\n",
        "#         ], p=0.25),\n",
        "#         A.CoarseDropout(max_holes=8, max_height=CFG.img_size[0]//20, max_width=CFG.img_size[1]//20,\n",
        "#                          min_holes=5, fill_value=0, mask_fill_value=0, p=0.5),\n",
        "        ], p=1.0),\n",
        "\n",
        "    \"valid\": A.Compose([\n",
        "        A.Resize(*CFG.img_size, interpolation=cv2.INTER_NEAREST),\n",
        "        ], p=1.0)\n",
        "}\n",
        "\n",
        "\n",
        "def plot_batch(imgs, msks, size=3):\n",
        "    plt.figure(figsize=(5*5, 5))\n",
        "    for idx in range(size):\n",
        "        plt.subplot(1, 5, idx+1)\n",
        "        img = imgs[idx,].permute((1, 2, 0)).numpy()*255.0\n",
        "        img = img.astype('uint8')\n",
        "        msk = msks[idx,].permute((1, 2, 0)).numpy()*255.0\n",
        "        show_img(img, msk)\n",
        "    plt.tight_layout()\n",
        "    plt.savefig('batch.png')\n",
        "    plt.show()\n"
      ],
      "metadata": {
        "id": "RDQ6OjH2OdmQ"
      },
      "execution_count": null,
      "outputs": []
    },
    {
      "cell_type": "code",
      "source": [
        "import torch\n",
        "from tqdm import tqdm\n",
        "from utils import CFG\n",
        "from torch import nn\n",
        "\n",
        "\n",
        "\n",
        "def dice_coef(y_true, y_pred, thr=0.5, dim=(2,3), epsilon=0.001):\n",
        "    y_true = y_true.to(torch.float32)\n",
        "    y_pred = (y_pred>thr).to(torch.float32)\n",
        "    inter = (y_true*y_pred).sum(dim=dim)\n",
        "    den = y_true.sum(dim=dim) + y_pred.sum(dim=dim)\n",
        "    dice = ((2*inter+epsilon)/(den+epsilon)).mean(dim=(1,0))\n",
        "    return dice\n",
        "\n",
        "\n",
        "def train_one_epoch(train_loader, model, loss_fn, optimizer, device):\n",
        "    model.train()\n",
        "    running_loss = 0\n",
        "    pbar = tqdm(enumerate(train_loader), total=len(train_loader), desc='training')\n",
        "    for idx, (xb, yb) in pbar:\n",
        "        xb = xb.to(device)\n",
        "        yb = yb.to(device)\n",
        "\n",
        "        optimizer.zero_grad()\n",
        "        logit = model(xb)\n",
        "        loss = loss_fn(logit, yb)\n",
        "\n",
        "        loss.backward()\n",
        "        optimizer.step()\n",
        "\n",
        "        running_loss += loss.item()\n",
        "        pbar.set_postfix(train_loss= f'{loss.item():.3f}')\n",
        "    epoch_loss = running_loss/len(train_loader)\n",
        "    return epoch_loss\n",
        "\n",
        "def valid_one_epoch(data_loader, model, loss_fn,device):\n",
        "    model.eval()\n",
        "    running_loss = 0\n",
        "    running_dice = 0\n",
        "    pbar = tqdm(enumerate(data_loader), total=len(data_loader), desc='validation')\n",
        "    for idx, (xb, yb) in pbar:\n",
        "        xb = xb.to(device)\n",
        "        yb = yb.to(device)\n",
        "        logit = model(xb)\n",
        "        loss = loss_fn(logit, yb)\n",
        "\n",
        "        # metrix\n",
        "        logit = nn.Sigmoid()(logit)\n",
        "        running_dice += dice_coef(yb, logit)\n",
        "\n",
        "        running_loss += loss.item()\n",
        "        pbar.set_postfix(valid_loss= f'{loss.item():.3f}')\n",
        "    epoch_loss = running_loss/len(data_loader)\n",
        "    epoch_dice = running_dice / len(data_loader)\n",
        "    return epoch_loss, epoch_dice\n",
        "\n"
      ],
      "metadata": {
        "id": "erQ6m-t5Of_t"
      },
      "execution_count": null,
      "outputs": []
    },
    {
      "cell_type": "code",
      "execution_count": null,
      "metadata": {
        "id": "iBAqd_kQLdU1"
      },
      "outputs": [],
      "source": [
        "# Import necessary libraries\n",
        "from pathlib import Path\n",
        "import pandas as pd\n",
        "from sklearn.model_selection import StratifiedGroupKFold\n",
        "import segmentation_models_pytorch as smp\n",
        "from torch import optim\n",
        "# from dataset import prepare_loaders\n",
        "# from utils import data_transforms, CFG, set_seed, plot_batch\n",
        "# from engine import train_one_epoch, valid_one_epoch\n",
        "import wandb\n",
        "import time\n",
        "from torch import nn\n",
        "import torch\n",
        "\n",
        "\n",
        "\n",
        "if __name__ == \"__main__\":\n",
        "    device = CFG.device\n",
        "    # set seed for reproducibility\n",
        "    set_seed(CFG.seed)\n",
        "    fold = 0\n",
        "\n",
        "    # log experiment using wandb\n",
        "    try:\n",
        "        from kaggle_secrets import UserSecretsClient\n",
        "        user_secrets = UserSecretsClient()\n",
        "        api_key = user_secrets.get_secret(\"wandb\")\n",
        "        wandb.login(key=api_key)\n",
        "        anonymous = None\n",
        "    except:\n",
        "        anonymous = \"must\"\n",
        "        print('using anonymous')\n",
        "\n",
        "    # Data Preprocessing\n",
        "    path = Path('data/preprocessed')\n",
        "    df = pd.read_csv(path/'train.csv')\n",
        "    df['segmentation'] = df['segmentation'].fillna('')\n",
        "    df['mask_path'] = df['mask_path'].str.replace('/kaggle/input/uwmgi-mask-dataset/png/', str(path/'np')).str.replace('png', 'npy')\n",
        "    df['image_path'] = df['image_path'].str.replace('/kaggle/input/uw-madison-gi-tract-image-segmentation', str(path.parent))\n",
        "    df['rle_len'] = df['segmentation'].apply(len)\n",
        "    df['empty'] = (df.rle_len == 0)\n",
        "    # print(df.head())\n",
        "\n",
        "\n",
        "    # K-Fold Cross Validation\n",
        "    skf = StratifiedGroupKFold(n_splits=CFG.n_fold, shuffle=True, random_state=CFG.seed)\n",
        "    for fold, (train_idx, valid_idx) in enumerate(skf.split(df, df['empty'], groups=df['case'])):\n",
        "        df.loc[valid_idx, 'fold'] = fold\n",
        "\n",
        "    # print(df.groupby(['fold', 'empty'])['id'].count())\n",
        "\n",
        "    train_loader, valid_loader = prepare_loaders(df, fold, data_transforms, CFG, debug=True)\n",
        "    # imgs, msks = next(iter(train_loader))\n",
        "    # print(\"shape of one batch\", imgs.size(), msks.size())\n",
        "    # plot_batch(imgs, msks, 5)\n",
        "\n",
        "    model = smp.Unet(encoder_name=CFG.backbone, encoder_weight='imagenet', classes=CFG.n_class, activation=None)\n",
        "    optimizer = optim.Adam(model.parameters(), lr=CFG.lr)\n",
        "    loss_fn = smp.losses.SoftBCEWithLogitsLoss()\n",
        "\n",
        "    # y_pred = model(imgs) # (bs, 3, 224, 224)\n",
        "    # y_pred = nn.Sigmoid()(y_pred)\n",
        "\n",
        "    tik = time.time()\n",
        "    for epoch in range(3):\n",
        "        train_loss = train_one_epoch(train_loader, model, loss_fn, optimizer, device)\n",
        "        valid_loss, valid_dice = valid_one_epoch(valid_loader, model, loss_fn, device)\n",
        "        print(f\"Epoch --- {epoch}\")\n",
        "        print(f\"train_loss = {train_loss:.3f}, valid_loss = {valid_loss:.3f}, valid_dice = {valid_dice:.3f}\")\n",
        "    tok = time.time()\n",
        "    print(f\"Total time taken: {tok-tik:.2}s\")\n",
        "\n",
        "    # save model\n",
        "    PATH = f\"last_epoch-{fold:02d}.bin\"\n",
        "    torch.save(model.state_dict(), PATH)\n",
        "\n",
        "    # prediction\n",
        "    xb, yb = next(iter(valid_loader))\n",
        "    xb = xb.to(device)\n",
        "    yb = yb.to(device)\n",
        "    pred = model(xb)\n",
        "    pred = (nn.Sigmoid()(pred)>0.5).double().cpu().detach()\n",
        "    xb = xb.cpu().detach()\n",
        "    plot_batch(xb, pred, 5)"
      ]
    }
  ],
  "metadata": {
    "colab": {
      "provenance": [],
      "include_colab_link": true
    },
    "kernelspec": {
      "display_name": "Python 3 (ipykernel)",
      "language": "python",
      "name": "python3"
    },
    "language_info": {
      "codemirror_mode": {
        "name": "ipython",
        "version": 3
      },
      "file_extension": ".py",
      "mimetype": "text/x-python",
      "name": "python",
      "nbconvert_exporter": "python",
      "pygments_lexer": "ipython3",
      "version": "3.11.11"
    }
  },
  "nbformat": 4,
  "nbformat_minor": 0
}