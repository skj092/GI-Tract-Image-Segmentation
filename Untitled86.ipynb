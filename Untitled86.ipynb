{
  "nbformat": 4,
  "nbformat_minor": 0,
  "metadata": {
    "colab": {
      "provenance": [],
      "mount_file_id": "1MRMjLRXqhCx__H7ScHGPD4PrsJ1dA2D0",
      "authorship_tag": "ABX9TyOolifWKbMGQhxAL6X2lPze",
      "include_colab_link": true
    },
    "kernelspec": {
      "name": "python3",
      "display_name": "Python 3"
    },
    "language_info": {
      "name": "python"
    }
  },
  "cells": [
    {
      "cell_type": "markdown",
      "metadata": {
        "id": "view-in-github",
        "colab_type": "text"
      },
      "source": [
        "<a href=\"https://colab.research.google.com/github/skj092/GI-Tract-Image-Segmentation/blob/main/Untitled86.ipynb\" target=\"_parent\"><img src=\"https://colab.research.google.com/assets/colab-badge.svg\" alt=\"Open In Colab\"/></a>"
      ]
    },
    {
      "cell_type": "code",
      "execution_count": 2,
      "metadata": {
        "id": "2cJxJNMEIigR"
      },
      "outputs": [],
      "source": [
        "import os\n",
        "os.chdir(\"/content/drive/MyDrive\")"
      ]
    },
    {
      "cell_type": "code",
      "source": [
        "ls"
      ],
      "metadata": {
        "colab": {
          "base_uri": "https://localhost:8080/"
        },
        "id": "r-PWsIxhI6IX",
        "outputId": "a1ca7fc4-5339-472e-ba77-1924b4bf4167"
      },
      "execution_count": 3,
      "outputs": [
        {
          "output_type": "stream",
          "name": "stdout",
          "text": [
            "'2019 Calendar.gsheet'\n",
            " 2878_Salary_OCTOBER2024.pdf\n",
            " aaahaar.pdf\n",
            "'Aadhaar Masking Service Project Description.gdoc'\n",
            "'Aadhaar Masking Service Project Description.pdf'\n",
            " aadhaar-ner.tar.gz\n",
            " \u001b[0m\u001b[01;34maadhar-ner-extraction\u001b[0m/\n",
            "'ACFrOgDFrPOij04WRmKSz5w5Q3L4soDT0Vo-hTof94eg3OQKvcTV7OJfCoEj2bh2He8w1HUcC4hUWEMYTgL5oLVa6FZFRa19qb9IAWMwcx3F-y8qwZFvO_SrndJMtyGn4xd3suE5-tu4FsdMlbOapR01u1GpOALwLgmaeG6RmQ==.pdf'\n",
            " ai-image.tar.gz\n",
            "\u001b[01;34m'AI Project Idea'\u001b[0m/\n",
            " amask.tar.gz\n",
            "'Birdclif 2024.gdoc'\n",
            "'BirdCLIF 2025 Exp log.gsheet'\n",
            "'BYU Locating Flagellar Motors.gdoc'\n",
            "'Calculus Convolution Intuition Explained'$'\\n''.gdoc'\n",
            "'certificate (1).pdf'\n",
            " certificate.pdf\n",
            " chatgpt.gdoc\n",
            "'CI CD FOR CV.gdoc'\n",
            "'Class notes (1).gdoc'\n",
            "'Class notes (2).gdoc'\n",
            "'Class notes.gdoc'\n",
            "'Cloud Computing.gdoc'\n",
            "\u001b[01;34m'Colab Notebooks'\u001b[0m/\n",
            "'Computer Vision YouTube.gdoc'\n",
            "'Copy of KAIST DM Paper List (Fall 2024).gsheet'\n",
            "'Copy of Resume.gdoc'\n",
            "'Copy of UK Winter 20 21 (1).gmap'\n",
            "'Copy of UK Winter 20 21 (2).gmap'\n",
            "'Copy of UK Winter 20 21.gmap'\n",
            "'Copy of Ultraworking - Lights Spreadsheet v1.2 (1).gsheet'\n",
            "'Copy of Ultraworking - Lights Spreadsheet v1.2.gsheet'\n",
            "'Copy of Ultraworking - Monthly Debrief and Planning v2.1.gsheet'\n",
            "'Copy of Ultraworking - Work Cycles v2.2.gsheet'\n",
            "'Copy of Untitled Jam.pdf'\n",
            "'Data Science.gdoc'\n",
            "'Data Science practical.docx'\n",
            "'dev ops.gdoc'\n",
            " \u001b[01;34mDocuments\u001b[0m/\n",
            "'Emotional Blackmail.gdoc'\n",
            "'_Employee Details-Sonu .xlsx'\n",
            " e-PAN_2446cdb28fd51310f419899f11feaf284d3e56337cbb6ec35907cd60f5148adb.pdf\n",
            "'Feb 2025 Expences.gsheet'\n",
            " Fluent_Python_Notes.gdoc\n",
            "'Form11Revised - current dt.090123 .docx'\n",
            " Form6_S13132O6N27042412000181.pdf.pdf\n",
            " Form6_S13132O6N2704241200018.pdf.pdf\n",
            " GAN-lecture-04-december.gdoc\n",
            "\u001b[01;34m'Google AI Studio'\u001b[0m/\n",
            "\u001b[01;34m'Google Earth'\u001b[0m/\n",
            " HardHat-Detection.zip\n",
            " images.tar.gz\n",
            " IMG_20240717_174617.pdf\n",
            " IMG_20250113_172343.pdf\n",
            " IMG_20250117_124528.jpg\n",
            "'IncomeTax_Computation_BBJPXXX89H-SONU RAMKUMAR JHA-590-2024.pdf'\n",
            "'Internship Extension letter - Sonu Jha.pdf'\n",
            "'Introduction to Hindi Literature:.gdoc'\n",
            "'Job Application.gform'\n",
            "'Job Applications.gsheet'\n",
            " KAGGLE-Cats-Vs-DOGS.gdoc\n",
            "'kaggle-competition- LLM Detect AI Generated Text.gdoc'\n",
            "'Learning (1).gdoc'\n",
            " Learning.gdoc\n",
            "'Lesson plan (1).gdoc'\n",
            "'Lesson plan (2).gdoc'\n",
            "'Lesson plan.gdoc'\n",
            "'Meeting notes (1).gdoc'\n",
            "'Meeting notes (2).gdoc'\n",
            "'Meeting notes.gdoc'\n",
            " Microservices.gdoc\n",
            " MICROSERVICES.gdoc\n",
            " \u001b[01;34mmlops\u001b[0m/\n",
            " mlops-research.gdoc\n",
            "'Modern Networking.gdoc'\n",
            "'Most Difficult Task For Me.gdoc'\n",
            "'mscits12021_22_student_teachers_email_id (1).xlsx'\n",
            " mscits12021_22_student_teachers_email_id.xlsx\n",
            "'nand 2 tetris hardware.gsheet'\n",
            "'neetcode 50.gsheet'\n",
            "'NLP Notes.gdoc'\n",
            " \u001b[01;34mNotes\u001b[0m/\n",
            "'Object Detection.gdoc'\n",
            "'Offer_Letter- Sonu jha -_Signzy (1).pdf'\n",
            "'Pay Slips for last 12 months - Sonu Jha - Signzy.zip'\n",
            "\u001b[01;34m'Play Books Notes'\u001b[0m/\n",
            "'Reading Notes.gdoc'\n",
            "'Research in Computing.gdoc'\n",
            " \u001b[01;34mresume\u001b[0m/\n",
            " resume-m.pdf\n",
            " resume.pdf\n",
            " Resume.pdf\n",
            " resume-v.gdoc\n",
            "'RNA .gdoc'\n",
            " Safety-Helmet-Detection-Readme.gdoc\n",
            " sample_submission.csv\n",
            " Schedule.gsheet\n",
            "'Soft Computing (1).gdoc'\n",
            "'Soft Computing.gdoc'\n",
            "'SONU - 01 - CC.docx'\n",
            "'sonu (1).pdf'\n",
            "'Sonu (1).pdf'\n",
            "'Sonu (2).pdf'\n",
            "'Sonu (3).pdf'\n",
            "'Sonu Jha-Payslip - Apr-2024.pdf'\n",
            " sonu.pdf\n",
            " Sonu.pdf\n",
            " sonu-resume.gdoc\n",
            " SONU_RIC_JOURNAL.docx\n",
            "'Sonu - Soft Computing Journal.docx'\n",
            " \u001b[01;34msv2\u001b[0m/\n",
            " TaxInvoiceMH1252605AV99918.pdf\n",
            " tenthcerti.pdf\n",
            " train.csv\n",
            " training.data\n",
            "'Two Squid Media - Website Pending Work.gdoc'\n",
            "'Untitled document (1).gdoc'\n",
            "'Untitled document (2).gdoc'\n",
            "'Untitled document (3).gdoc'\n",
            "'Untitled document (4).gdoc'\n",
            "'Untitled document (5).gdoc'\n",
            "'Untitled document (6).gdoc'\n",
            "'Untitled document (7).gdoc'\n",
            "'Untitled document (8).gdoc'\n",
            "'Untitled document (9).gdoc'\n",
            "'Untitled document.gdoc'\n",
            "'Untitled Jam.pdf'\n",
            "'Untitled presentation (1).gslides'\n",
            "'Untitled presentation.gslides'\n",
            "'Untitled spreadsheet (1).gsheet'\n",
            "'Untitled spreadsheet (2).gsheet'\n",
            "'Untitled spreadsheet.gsheet'\n",
            "'Wanna Bet.gdoc'\n",
            "'Weekly time sheet.gsheet'\n",
            "'WhatsApp Image 2024-07-16 at 11.30.14 AM.jpeg'\n",
            "'Why I Hike.gdoc'\n",
            "'Why You Should Run.gdoc'\n",
            " \u001b[01;34mWriting\u001b[0m/\n",
            " yolo.gdoc\n"
          ]
        }
      ]
    },
    {
      "cell_type": "code",
      "source": [],
      "metadata": {
        "id": "erzAOkNqJ2az"
      },
      "execution_count": null,
      "outputs": []
    }
  ]
}